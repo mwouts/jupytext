{
 "cells": [
  {
   "cell_type": "code",
   "execution_count": null,
   "metadata": {},
   "outputs": [],
   "source": [
    "*** Settings ***\n",
    "\n",
    "Library  Collections"
   ]
  },
  {
   "cell_type": "code",
   "execution_count": null,
   "metadata": {},
   "outputs": [],
   "source": [
    "*** Keywords ***\n",
    "\n",
    "Head\n",
    "    [Arguments]  ${list}\n",
    "    ${value}=  Get from list  ${list}  0\n",
    "    [Return]  ${value}"
   ]
  },
  {
   "cell_type": "code",
   "execution_count": null,
   "metadata": {
    "lines_to_next_cell": 0
   },
   "outputs": [],
   "source": [
    "*** Tasks ***\n",
    "\n",
    "Get head\n",
    "    ${array}=  Create list  1  2  3  4  5\n",
    "    ${head}=  Head  ${array}\n",
    "    Should be equal  ${head}  1"
   ]
  }
 ],
 "metadata": {
  "kernelspec": {
   "display_name": "Robot Framework",
   "language": "robotframework",
   "name": "robotkernel"
  },
  "language_info": {
   "codemirror_mode": "robotframework",
   "file_extension": ".robot",
   "mimetype": "text/plain",
   "name": "robotframework",
   "pygments_lexer": "robotframework"
  },
  "pycharm": {
   "stem_cell": {
    "cell_type": "raw",
    "metadata": {
     "collapsed": false
    },
    "source": []
   }
  }
 },
 "nbformat": 4,
 "nbformat_minor": 2
}
