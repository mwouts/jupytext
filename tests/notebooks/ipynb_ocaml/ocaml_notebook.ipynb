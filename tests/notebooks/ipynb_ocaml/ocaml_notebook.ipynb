{
 "cells": [
  {
   "cell_type": "markdown",
   "id": "ba111577",
   "metadata": {},
   "source": [
    "# Example of an OCaml notebook"
   ]
  },
  {
   "cell_type": "code",
   "execution_count": 3,
   "id": "04192beb",
   "metadata": {},
   "outputs": [
    {
     "data": {
      "text/plain": [
       "val sum : int -> int -> int = <fun>\n"
      ]
     },
     "execution_count": 3,
     "metadata": {},
     "output_type": "execute_result"
    }
   ],
   "source": [
    "let sum x y = x + y"
   ]
  },
  {
   "cell_type": "markdown",
   "id": "e184eee6",
   "metadata": {},
   "source": [
    "Let's try our function:"
   ]
  },
  {
   "cell_type": "code",
   "execution_count": 4,
   "id": "99b4cac0",
   "metadata": {},
   "outputs": [
    {
     "data": {
      "text/plain": [
       "- : bool = true\n"
      ]
     },
     "execution_count": 4,
     "metadata": {},
     "output_type": "execute_result"
    }
   ],
   "source": [
    "sum 3 4 = 7 + 0"
   ]
  }
 ],
 "metadata": {
  "jupytext": {
   "formats": "ipynb:markdown,md"
  },
  "kernelspec": {
   "display_name": "OCaml default",
   "language": "OCaml",
   "name": "ocaml-jupyter"
  },
  "language_info": {
   "codemirror_mode": "text/x-ocaml",
   "file_extension": ".ml",
   "mimetype": "text/x-ocaml",
   "name": "OCaml",
   "nbconverter_exporter": null,
   "pygments_lexer": "OCaml",
   "version": "4.12.0"
  }
 },
 "nbformat": 4,
 "nbformat_minor": 5
}
