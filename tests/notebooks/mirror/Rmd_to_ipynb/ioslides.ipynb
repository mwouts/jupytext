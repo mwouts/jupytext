{
 "cells": [
  {
   "cell_type": "raw",
   "metadata": {},
   "source": [
    "---\n",
    "title: \"Quick ioslides\"\n",
    "subtitle: \"Slides generated using R, python and ioslides\"\n",
    "author: \"Marc Wouts\"\n",
    "date: \"June 15, 2018\"\n",
    "output:\n",
    "  ioslides_presentation:\n",
    "    widescreen: true\n",
    "    smaller: true\n",
    "editor_options:\n",
    "  chunk_output_type: console\n",
    "---"
   ]
  },
  {
   "cell_type": "markdown",
   "metadata": {},
   "source": [
    "## What is ioslides?\n",
    "\n",
    "This is the default format in rstudio for building interactive HTML presentations.\n",
    "\n",
    "Enjoy the [manual](https://rmarkdown.rstudio.com/ioslides_presentation_format.html)!\n",
    "\n",
    "These slides can be turned to a single HTML file with either a click on 'knitr' in rstudio, or, command line:\n",
    "```bash\n",
    "R -e 'rmarkdown::render(\"ioslides.Rmd\")'\n",
    "```\n",
    "\n",
    "## A sample plot\n",
    "\n",
    "<div style=\"float: left; width: 30%;\">\n",
    "Here we create a sample data set for plotting."
   ]
  },
  {
   "cell_type": "code",
   "execution_count": null,
   "metadata": {
    "echo": true
   },
   "outputs": [],
   "source": [
    "import pandas as pd\n",
    "x = pd.Series({'A':1, 'B':3, 'C':2})"
   ]
  },
  {
   "cell_type": "markdown",
   "metadata": {
    "lines_to_next_cell": 0
   },
   "source": [
    "Then, in another column we plot. The R notebook code chunks have many [options](https://yihui.name/knitr/options/).\n",
    "For this plot I chose not to display the source code.\n",
    "</div>\n",
    "\n",
    "<div style=\"float: right; width: 70%;\">"
   ]
  },
  {
   "cell_type": "code",
   "execution_count": null,
   "metadata": {
    "fig.height": 5,
    "fig.width": 8,
    "lines_to_next_cell": 0,
    "tags": [
     "remove_input"
    ]
   },
   "outputs": [],
   "source": [
    "x.plot(kind='bar', title='Sample plot')"
   ]
  },
  {
   "cell_type": "markdown",
   "metadata": {},
   "source": [
    "<div>"
   ]
  }
 ],
 "metadata": {
  "jupytext": {
   "cell_metadata_filter": "echo,tags,fig.width,fig.height,-all",
   "main_language": "python",
   "notebook_metadata_filter": "-all"
  }
 },
 "nbformat": 4,
 "nbformat_minor": 2
}
