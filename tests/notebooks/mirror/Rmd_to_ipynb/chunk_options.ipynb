{
 "cells": [
  {
   "cell_type": "raw",
   "metadata": {},
   "source": [
    "---\n",
    "title: \"Test chunk options in Rmd/Jupyter conversion\"\n",
    "author: \"Marc Wouts\"\n",
    "date: \"June 16, 2018\"\n",
    "---"
   ]
  },
  {
   "cell_type": "code",
   "execution_count": null,
   "metadata": {
    "hide_output": true,
    "lines_to_next_cell": 2,
    "name": "knitr_setup"
   },
   "outputs": [],
   "source": [
    "%%R\n",
    "knitr::opts_chunk$set(echo = FALSE, fig.width = 10, fig.height = 5)"
   ]
  },
  {
   "cell_type": "code",
   "execution_count": null,
   "metadata": {
    "hide_input": false
   },
   "outputs": [],
   "source": [
    "import pandas as pd\n",
    "x = pd.Series({'A':1, 'B':3, 'C':2})"
   ]
  },
  {
   "cell_type": "code",
   "execution_count": null,
   "metadata": {
    "fig.height": 5,
    "fig.width": 8,
    "hide_input": true,
    "lines_to_next_cell": 0,
    "name": "bar_plot"
   },
   "outputs": [],
   "source": [
    "x.plot(kind='bar', title='Sample plot')"
   ]
  },
  {
   "cell_type": "markdown",
   "metadata": {},
   "source": []
  }
 ],
 "metadata": {
  "kernelspec": {
   "display_name": "Python",
   "language": "python",
   "name": "python3"
  }
 },
 "nbformat": 4,
 "nbformat_minor": 2
}
