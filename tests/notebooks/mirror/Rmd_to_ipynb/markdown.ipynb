{
 "cells": [
  {
   "cell_type": "markdown",
   "metadata": {},
   "source": [
    "# This is a plain markdown file\n",
    "\n",
    "```python\n",
    "1+1\n",
    "```\n",
    "\n",
    "And more comments\n",
    "\n",
    "Another comment separated by one line"
   ]
  },
  {
   "cell_type": "markdown",
   "metadata": {},
   "source": [
    "This is another cell, separated by two or more lines from the previous one."
   ]
  },
  {
   "cell_type": "markdown",
   "metadata": {},
   "source": [
    "And a last markdown cell, followed by a code cell\n",
    "```python\n",
    "1+1\n",
    "```"
   ]
  }
 ],
 "metadata": {
  "jupytext": {
   "cell_metadata_filter": "-all",
   "main_language": "python",
   "notebook_metadata_filter": "-all"
  }
 },
 "nbformat": 4,
 "nbformat_minor": 2
}
