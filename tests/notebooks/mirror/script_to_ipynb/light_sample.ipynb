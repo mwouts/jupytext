{
 "cells": [
  {
   "cell_type": "markdown",
   "metadata": {},
   "source": [
    "# Sample notebook"
   ]
  },
  {
   "cell_type": "code",
   "execution_count": null,
   "metadata": {},
   "outputs": [],
   "source": [
    "a = 1\n",
    "b = 2\n",
    "a + b"
   ]
  }
 ],
 "metadata": {
  "jupytext_format_version": "1.2",
  "jupytext_formats": "ipynb,py",
  "main_language": "python"
 },
 "nbformat": 4,
 "nbformat_minor": 2
}
