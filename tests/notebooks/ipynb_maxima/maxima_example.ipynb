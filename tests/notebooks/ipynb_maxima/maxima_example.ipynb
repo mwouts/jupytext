{
 "cells": [
  {
   "cell_type": "markdown",
   "id": "a272759d",
   "metadata": {},
   "source": [
    "## maxima misc"
   ]
  },
  {
   "cell_type": "code",
   "execution_count": null,
   "id": "4f2a00bb",
   "metadata": {},
   "outputs": [],
   "source": [
    "kill(all)$"
   ]
  },
  {
   "cell_type": "code",
   "execution_count": null,
   "id": "8b1434eb",
   "metadata": {},
   "outputs": [],
   "source": [
    "f(x) := 1/(x^2+l^2)^(3/2);"
   ]
  },
  {
   "cell_type": "code",
   "execution_count": null,
   "id": "9f3f0afb",
   "metadata": {},
   "outputs": [],
   "source": [
    "integrate(f(x), x);"
   ]
  },
  {
   "cell_type": "code",
   "execution_count": null,
   "id": "3c964efd",
   "metadata": {},
   "outputs": [],
   "source": [
    "tex(%)$"
   ]
  },
  {
   "cell_type": "code",
   "execution_count": null,
   "id": "f8b0e578",
   "metadata": {},
   "outputs": [],
   "source": []
  }
 ],
 "metadata": {
  "kernelspec": {
   "display_name": "Maxima",
   "language": "maxima",
   "name": "maxima"
  },
  "language_info": {
   "codemirror_mode": "maxima",
   "file_extension": ".mac",
   "mimetype": "text/x-maxima",
   "name": "maxima",
   "pygments_lexer": "maxima",
   "version": "5.43.2"
  }
 },
 "nbformat": 4,
 "nbformat_minor": 5
}
