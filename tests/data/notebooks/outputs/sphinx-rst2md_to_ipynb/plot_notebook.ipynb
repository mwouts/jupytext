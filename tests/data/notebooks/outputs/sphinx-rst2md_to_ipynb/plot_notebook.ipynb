{
 "cells": [
  {
   "cell_type": "code",
   "execution_count": null,
   "metadata": {},
   "outputs": [],
   "source": [
    "%matplotlib inline"
   ]
  },
  {
   "cell_type": "markdown",
   "metadata": {
    "cell_marker": "\"\"\""
   },
   "source": [
    "Notebook styled examples\n",
    "========================\n",
    "\n",
    "The gallery is capable of transforming Python files into reStructuredText files\n",
    "with a notebook structure. For this to be used you need to respect some syntax\n",
    "rules.\n",
    "\n",
    "It makes a lot of sense to contrast this output rst file with the\n",
    ":download:`original Python script <plot_notebook.py>` to get better feeling of\n",
    "the necessary file structure.\n",
    "\n",
    "Anything before the Python script docstring is ignored by sphinx-gallery and\n",
    "will not appear in the rst file, nor will it be executed.\n",
    "This Python docstring requires an reStructuredText title to name the file and\n",
    "correctly build the reference links.\n",
    "\n",
    "Once you close the docstring you would be writing Python code. This code gets\n",
    "executed by sphinx gallery shows the plots and attaches the generating code.\n",
    "Nevertheless you can break your code into blocks and give the rendered file\n",
    "a notebook style. In this case you have to include a code comment breaker\n",
    "a line of at least 20 hashes and then every comment start with the a new hash.\n",
    "\n",
    "As in this example we start by first writing this module\n",
    "style docstring, then for the first code block we write the example file author\n",
    "and script license continued by the import modules instructions.\n",
    "\n",
    "Original script from:\n",
    "https://sphinx-gallery.readthedocs.io/en/latest/tutorials/plot_notebook.html"
   ]
  },
  {
   "cell_type": "code",
   "execution_count": null,
   "metadata": {},
   "outputs": [],
   "source": [
    "# Code source: Óscar Nájera\n",
    "# License: BSD 3 clause\n",
    "\n",
    "import numpy as np\n",
    "import matplotlib.pyplot as plt"
   ]
  },
  {
   "cell_type": "markdown",
   "metadata": {
    "cell_marker": "##############################################################################"
   },
   "source": [
    "This code block is executed, although it produces no output. Lines starting\n",
    "with a simple hash are code comment and get treated as part of the code\n",
    "block. To include this new comment string we started the new block with a\n",
    "long line of hashes.\n",
    "\n",
    "The sphinx-gallery parser will assume everything after this splitter and that\n",
    "continues to start with a **comment hash and space** (respecting code style)\n",
    "is text that has to be rendered in\n",
    "html format. Keep in mind to always keep your comments always together by\n",
    "comment hashes. That means to break a paragraph you still need to comment\n",
    "that line break.\n",
    "\n",
    "In this example the next block of code produces some plotable data. Code is\n",
    "executed, figure is saved and then code is presented next, followed by the\n",
    "inlined figure."
   ]
  },
  {
   "cell_type": "code",
   "execution_count": null,
   "metadata": {},
   "outputs": [],
   "source": [
    "x = np.linspace(-np.pi, np.pi, 300)\n",
    "xx, yy = np.meshgrid(x, x)\n",
    "z = np.cos(xx) + np.cos(yy)\n",
    "\n",
    "plt.figure()\n",
    "plt.imshow(z)\n",
    "plt.colorbar()\n",
    "plt.xlabel('$x$')\n",
    "plt.ylabel('$y$')"
   ]
  },
  {
   "cell_type": "markdown",
   "metadata": {
    "cell_marker": "###########################################################################"
   },
   "source": [
    "Again it is possible to continue the discussion with a new Python string. This\n",
    "time to introduce the next code block generates 2 separate figures."
   ]
  },
  {
   "cell_type": "code",
   "execution_count": null,
   "metadata": {},
   "outputs": [],
   "source": [
    "plt.figure()\n",
    "plt.imshow(z, cmap=plt.cm.get_cmap('hot'))\n",
    "plt.figure()\n",
    "plt.imshow(z, cmap=plt.cm.get_cmap('Spectral'), interpolation='none')"
   ]
  },
  {
   "cell_type": "markdown",
   "metadata": {
    "cell_marker": "##########################################################################"
   },
   "source": [
    "There's some subtle differences between rendered html rendered comment\n",
    "strings and code comment strings which I'll demonstrate below. (Some of this\n",
    "only makes sense if you look at the\n",
    ":download:`raw Python script <plot_notebook.py>`)\n",
    "\n",
    "Comments in comment blocks remain nested in the text."
   ]
  },
  {
   "cell_type": "code",
   "execution_count": null,
   "metadata": {},
   "outputs": [],
   "source": [
    "\n",
    "def dummy():\n",
    "    \"\"\"Dummy function to make sure docstrings don't get rendered as text\"\"\"\n",
    "    pass\n",
    "\n",
    "# Code comments not preceded by the hash splitter are left in code blocks.\n",
    "\n",
    "string = \"\"\"\n",
    "Triple-quoted string which tries to break parser but doesn't.\n",
    "\"\"\""
   ]
  },
  {
   "cell_type": "markdown",
   "metadata": {
    "cell_marker": "############################################################################"
   },
   "source": [
    "Output of the script is captured:"
   ]
  },
  {
   "cell_type": "code",
   "execution_count": null,
   "metadata": {},
   "outputs": [],
   "source": [
    "print('Some output from Python')"
   ]
  },
  {
   "cell_type": "markdown",
   "metadata": {
    "cell_marker": "############################################################################"
   },
   "source": [
    "Finally, I'll call ``show`` at the end just so someone running the Python\n",
    "code directly will see the plots; this is not necessary for creating the docs"
   ]
  },
  {
   "cell_type": "code",
   "execution_count": null,
   "metadata": {},
   "outputs": [],
   "source": [
    "plt.show()"
   ]
  },
  {
   "cell_type": "markdown",
   "metadata": {
    "cell_marker": "############################################################################"
   },
   "source": [
    "You can also include $math$ inline, or as separate equations:\n",
    "\n",
    "\\begin{align}\\exp(j\\pi) = -1\\end{align}\n",
    "\n",
    "You can also insert images:\n",
    "\n",
    "![Sphinx header](http://www.sphinx-doc.org/en/stable/_static/sphinxheader.png)"
   ]
  }
 ],
 "metadata": {
  "jupytext": {
   "cell_metadata_filter": "-all",
   "encoding": "# -*- coding: utf-8 -*-",
   "main_language": "python",
   "notebook_metadata_filter": "-all",
   "rst2md": false
  }
 },
 "nbformat": 4,
 "nbformat_minor": 2
}
