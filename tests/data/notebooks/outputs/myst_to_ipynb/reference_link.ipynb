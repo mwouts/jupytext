{
 "cells": [
  {
   "cell_type": "markdown",
   "id": "cell-1",
   "metadata": {},
   "source": [
    "This documents contains a code cell to make sure it is recognized as a MyST document."
   ]
  },
  {
   "cell_type": "code",
   "execution_count": null,
   "id": "cell-2",
   "metadata": {},
   "outputs": [],
   "source": [
    "1 + 1"
   ]
  },
  {
   "cell_type": "markdown",
   "id": "cell-3",
   "metadata": {},
   "source": [
    "This is a [reference-link to the issue][].\n",
    "\n",
    ":::{note}\n",
    "This note is key... not sure why.\n",
    ":::\n",
    "\n",
    "[reference-link to the issue]: <https://github.com/mwouts/jupytext/issues/789>"
   ]
  }
 ],
 "metadata": {
  "jupytext": {
   "default_lexer": "ipython3",
   "notebook_metadata_filter": "-all"
  }
 },
 "nbformat": 4,
 "nbformat_minor": 5
}
