{
 "cells": [
  {
   "cell_type": "markdown",
   "id": "cell-1",
   "metadata": {},
   "source": [
    "# Fenced code\n",
    "\n",
    "## No language\n",
    "\n",
    "```\n",
    "# a generic code instruction\n",
    "1 + 1\n",
    "```\n",
    "\n",
    "## Python\n",
    "\n",
    "```python\n",
    "1 + 1\n",
    "```\n",
    "\n",
    "## Bash\n",
    "\n",
    "```python\n",
    "echo Hi\n",
    "```\n",
    "\n",
    "# Code cells"
   ]
  },
  {
   "cell_type": "code",
   "execution_count": null,
   "id": "cell-2",
   "metadata": {},
   "outputs": [],
   "source": [
    "# This code gets executed in notebooks\n",
    "1 + 1"
   ]
  }
 ],
 "metadata": {
  "jupytext": {
   "default_lexer": "ipython3",
   "notebook_metadata_filter": "-all"
  }
 },
 "nbformat": 4,
 "nbformat_minor": 5
}
