{
 "cells": [
  {
   "cell_type": "markdown",
   "metadata": {},
   "source": [
    "# Markdown, code and raw cells\n",
    "\n",
    "## Markdown cells\n",
    "\n",
    "This is a Markdown cell. Markdown cells end with either a code cell, or two consecutive blank lines in the text.\n",
    "\n",
    "If you prefer that Markdown headings define new cells, have a look at the `split_at_heading` option.\n",
    "\n",
    "Indented code is accepted, and consecutive blank lines there do not break Markdown cells:\n",
    "\n",
    "    def f(x):\n",
    "        return 1\n",
    "\n",
    "\n",
    "    def h(x):\n",
    "        return f(x)+2\n",
    "\n",
    "\n",
    "## Code cells"
   ]
  },
  {
   "cell_type": "code",
   "execution_count": null,
   "metadata": {},
   "outputs": [],
   "source": [
    "\"\"\"This code cell starts with ` ```python`\"\"\"\n",
    "1 + 1"
   ]
  },
  {
   "cell_type": "markdown",
   "metadata": {
    "lines_to_next_cell": 0
   },
   "source": [
    "## Raw cells\n",
    "\n",
    "Raw cells are delimited with `<!-- #raw -->` and <!-- #endraw -->, like here:"
   ]
  },
  {
   "cell_type": "raw",
   "metadata": {},
   "source": [
    "this is a raw cell"
   ]
  },
  {
   "cell_type": "markdown",
   "metadata": {},
   "source": [
    "# Protected Markdown cells\n",
    "\n",
    "If you want to include code blocks (or two consecutive blank lines) in a Markdown cell, use explicit Markdown cell delimiters `<!-- #region -->` and `<!-- #endregion -->`."
   ]
  },
  {
   "cell_type": "markdown",
   "metadata": {},
   "source": [
    "This Markdown cell has two consecutive blank lines\n",
    "\n",
    "\n",
    "And then a code block which is not a Jupyter code cell:\n",
    "```python\n",
    "2 + 2\n",
    "```"
   ]
  },
  {
   "cell_type": "markdown",
   "metadata": {},
   "source": [
    "# Metadata\n",
    "\n",
    "Metadata are supported for all cell types.\n",
    "\n",
    "## Markdown cells"
   ]
  },
  {
   "cell_type": "markdown",
   "metadata": {
    "key": "value",
    "title": "Region title"
   },
   "source": [
    "A cell with a title and additional metadata."
   ]
  },
  {
   "cell_type": "markdown",
   "metadata": {},
   "source": [
    "## Code cells"
   ]
  },
  {
   "cell_type": "code",
   "execution_count": null,
   "metadata": {
    "tags": [
     "parameters"
    ]
   },
   "outputs": [],
   "source": [
    "a = 2"
   ]
  }
 ],
 "metadata": {
  "kernelspec": {
   "display_name": "Python 3",
   "language": "python",
   "name": "python3"
  }
 },
 "nbformat": 4,
 "nbformat_minor": 2
}
