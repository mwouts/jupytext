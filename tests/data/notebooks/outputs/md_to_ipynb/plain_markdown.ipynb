{
 "cells": [
  {
   "cell_type": "raw",
   "metadata": {},
   "source": [
    "---\n",
    "title: A sample document\n",
    "---"
   ]
  },
  {
   "cell_type": "markdown",
   "metadata": {},
   "source": [
    "This document is a plain Markdown document that was not created from a notebook.\n",
    "We use this document to test that inputing a Markdown file into Jupytext, and then converting the\n",
    "resulting notebook to a Markdown file using nbconvert, is the identity\n",
    "\n",
    "Another paragraph\n",
    "\n",
    "# A header\n",
    "\n",
    "Indented code\n",
    "\n",
    "    def f(x):\n",
    "        return 1\n",
    "\n",
    "\n",
    "    def h(x):\n",
    "        return f(x)+2\n",
    "\n",
    "\n",
    "A Python code snippet"
   ]
  },
  {
   "cell_type": "code",
   "execution_count": null,
   "metadata": {},
   "outputs": [],
   "source": [
    "\"\"\"This code cell starts with ` ```python`\"\"\"\n",
    "1 + 1"
   ]
  },
  {
   "cell_type": "markdown",
   "metadata": {},
   "source": [
    "Code snippet without an explicit language\n",
    "```\n",
    "echo 'Hello world'\n",
    "```\n",
    "\n",
    "Markdown comments\n",
    "<!-- #comment -->\n",
    "\n",
    "VS Code region markers"
   ]
  },
  {
   "cell_type": "markdown",
   "metadata": {},
   "source": [
    "This Markdown cell has two consecutive blank lines\n",
    "\n",
    "\n",
    "And continues here"
   ]
  }
 ],
 "metadata": {
  "jupytext": {
   "cell_metadata_filter": "-all",
   "main_language": "python",
   "notebook_metadata_filter": "-all"
  }
 },
 "nbformat": 4,
 "nbformat_minor": 2
}
