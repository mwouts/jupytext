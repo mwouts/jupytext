{
 "cells": [
  {
   "cell_type": "markdown",
   "id": "decb6522",
   "metadata": {},
   "source": [
    "# Example Haskell Notebook"
   ]
  },
  {
   "cell_type": "markdown",
   "id": "9c783092",
   "metadata": {},
   "source": [
    "Define a function to add two numbers."
   ]
  },
  {
   "cell_type": "code",
   "execution_count": 1,
   "id": "85e230d8",
   "metadata": {},
   "outputs": [],
   "source": [
    "f :: Num a => a -> a -> a\n",
    "f x y = x + y"
   ]
  },
  {
   "cell_type": "markdown",
   "id": "1e2abdf2",
   "metadata": {},
   "source": [
    "Try to use the function"
   ]
  },
  {
   "cell_type": "code",
   "execution_count": 2,
   "id": "812491a6",
   "metadata": {},
   "outputs": [
    {
     "data": {
      "text/plain": [
       "3"
      ]
     },
     "metadata": {},
     "output_type": "display_data"
    }
   ],
   "source": [
    "f 1 2 "
   ]
  }
 ],
 "metadata": {
  "kernelspec": {
   "display_name": "Haskell",
   "language": "haskell",
   "name": "haskell"
  },
  "language_info": {
   "codemirror_mode": "ihaskell",
   "file_extension": ".hs",
   "mimetype": "text/x-haskell",
   "name": "haskell",
   "pygments_lexer": "Haskell",
   "version": "8.10.7"
  }
 },
 "nbformat": 4,
 "nbformat_minor": 5
}
