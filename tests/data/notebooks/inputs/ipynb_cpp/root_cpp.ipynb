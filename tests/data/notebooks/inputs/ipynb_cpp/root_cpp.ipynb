{
 "cells": [
  {
   "cell_type": "code",
   "execution_count": 1,
   "id": "f0c19410-7bd1-4b72-9cb3-f042245a06da",
   "metadata": {},
   "outputs": [],
   "source": [
    "#include <iostream>\n",
    "#include <string>"
   ]
  },
  {
   "cell_type": "code",
   "execution_count": 2,
   "id": "a56bd112-a6f7-439e-be2c-0c8f35f3e3e0",
   "metadata": {},
   "outputs": [],
   "source": [
    "int k = 4;\n",
    "std::string foo = \"This string says \\\"foo\\\"\";"
   ]
  },
  {
   "cell_type": "code",
   "execution_count": 3,
   "id": "1b206654-b4d6-4865-b114-f43e32b3071b",
   "metadata": {},
   "outputs": [
    {
     "name": "stdout",
     "output_type": "stream",
     "text": [
      "k = 4\n",
      "This string says \"foo\"\n"
     ]
    }
   ],
   "source": [
    "std::cout << \"k = \" << k << '\\n' << foo << '\\n';"
   ]
  }
 ],
 "metadata": {
  "kernelspec": {
   "display_name": "ROOT C++",
   "language": "c++",
   "name": "root"
  },
  "language_info": {
   "codemirror_mode": "text/x-c++src",
   "file_extension": ".C",
   "mimetype": " text/x-c++src",
   "name": "c++"
  }
 },
 "nbformat": 4,
 "nbformat_minor": 5
}
