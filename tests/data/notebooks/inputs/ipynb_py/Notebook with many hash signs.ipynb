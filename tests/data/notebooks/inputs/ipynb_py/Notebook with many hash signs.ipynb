{
 "cells": [
  {
   "cell_type": "markdown",
   "metadata": {},
   "source": [
    "##################################################################\n",
    "This is a notebook that contains many hash signs.\n",
    "Hopefully its python representation is not recognized as a Sphinx Gallery script...\n",
    "##################################################################"
   ]
  },
  {
   "cell_type": "code",
   "execution_count": 1,
   "metadata": {},
   "outputs": [
    {
     "data": {
      "text/plain": [
       "3"
      ]
     },
     "execution_count": 1,
     "metadata": {},
     "output_type": "execute_result"
    }
   ],
   "source": [
    "some = 1\n",
    "code = 2\n",
    "some+code\n",
    "\n",
    "##################################################################\n",
    "# A comment\n",
    "##################################################################\n",
    "# Another comment"
   ]
  },
  {
   "cell_type": "markdown",
   "metadata": {},
   "source": [
    "##################################################################\n",
    "This is a notebook that contains many hash signs.\n",
    "Hopefully its python representation is not recognized as a Sphinx Gallery script...\n",
    "##################################################################"
   ]
  }
 ],
 "metadata": {
  "kernelspec": {
   "display_name": "Python 3",
   "language": "python",
   "name": "python3"
  },
  "language_info": {
   "codemirror_mode": {
    "name": "ipython",
    "version": 3
   },
   "file_extension": ".py",
   "mimetype": "text/x-python",
   "name": "python",
   "nbconvert_exporter": "python",
   "pygments_lexer": "ipython3",
   "version": "3.6.6"
  }
 },
 "nbformat": 4,
 "nbformat_minor": 2
}
