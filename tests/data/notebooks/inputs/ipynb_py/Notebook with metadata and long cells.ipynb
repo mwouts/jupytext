{
 "cells": [
  {
   "cell_type": "markdown",
   "metadata": {},
   "source": [
    "# Part one - various cells"
   ]
  },
  {
   "cell_type": "markdown",
   "metadata": {},
   "source": [
    "Here we have a markdown cell\n",
    "\n",
    "\n",
    "with two blank lines"
   ]
  },
  {
   "cell_type": "markdown",
   "metadata": {},
   "source": [
    "Now we have a markdown cell\n",
    "with a code block inside it\n",
    "\n",
    "```python\n",
    "1 + 1\n",
    "```\n",
    "\n",
    "After that cell we'll have a code cell"
   ]
  },
  {
   "cell_type": "code",
   "execution_count": 1,
   "metadata": {},
   "outputs": [
    {
     "data": {
      "text/plain": [
       "6"
      ]
     },
     "execution_count": 1,
     "metadata": {},
     "output_type": "execute_result"
    }
   ],
   "source": [
    "2 + 2\n",
    "\n",
    "\n",
    "3 + 3"
   ]
  },
  {
   "cell_type": "markdown",
   "metadata": {},
   "source": [
    "Followed by a raw cell"
   ]
  },
  {
   "cell_type": "raw",
   "metadata": {},
   "source": [
    "This is \n",
    "the content\n",
    "of the raw cell"
   ]
  },
  {
   "cell_type": "markdown",
   "metadata": {},
   "source": [
    "# Part two - cell metadata"
   ]
  },
  {
   "cell_type": "markdown",
   "metadata": {
    "key": "value"
   },
   "source": [
    "This is a markdown cell with cell metadata `{\"key\": \"value\"}`"
   ]
  },
  {
   "cell_type": "code",
   "execution_count": 2,
   "metadata": {
    ".class": null,
    "tags": [
     "parameters"
    ]
   },
   "outputs": [
    {
     "data": {
      "text/plain": [
       "'This is a code cell with metadata `{\"tags\":[\"parameters\"], \".class\":null}`'"
      ]
     },
     "execution_count": 2,
     "metadata": {},
     "output_type": "execute_result"
    }
   ],
   "source": [
    "\"\"\"This is a code cell with metadata `{\"tags\":[\"parameters\"], \".class\":null}`\"\"\""
   ]
  },
  {
   "cell_type": "raw",
   "metadata": {
    "key": "value"
   },
   "source": [
    "This is a raw cell with cell metadata `{\"key\": \"value\"}`"
   ]
  }
 ],
 "metadata": {
  "celltoolbar": "Edit Metadata",
  "kernelspec": {
   "display_name": "Python 3",
   "language": "python",
   "name": "python3"
  },
  "language_info": {
   "codemirror_mode": {
    "name": "ipython",
    "version": 3
   },
   "file_extension": ".py",
   "mimetype": "text/x-python",
   "name": "python",
   "nbconvert_exporter": "python",
   "pygments_lexer": "ipython3",
   "version": "3.6.6"
  }
 },
 "nbformat": 4,
 "nbformat_minor": 2
}
