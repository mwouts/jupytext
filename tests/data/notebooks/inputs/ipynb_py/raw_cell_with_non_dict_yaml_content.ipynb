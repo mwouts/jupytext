{
 "cells": [
  {
   "cell_type": "raw",
   "id": "b32297a4",
   "metadata": {},
   "source": [
    "---\n",
    "Content.\n",
    "---"
   ]
  },
  {
   "cell_type": "code",
   "execution_count": null,
   "metadata": {},
   "outputs": [],
   "id": "0b3bde0a",
   "source": [
    "print(\"Hello, World!\")"
   ]
  }
 ],
 "metadata": {
  "kernelspec": {
   "display_name": "Python 3",
   "language": "python",
   "name": "python3"
  },
  "language_info": {
   "name": "python"
  }
 },
 "nbformat": 4,
 "nbformat_minor": 5
}
