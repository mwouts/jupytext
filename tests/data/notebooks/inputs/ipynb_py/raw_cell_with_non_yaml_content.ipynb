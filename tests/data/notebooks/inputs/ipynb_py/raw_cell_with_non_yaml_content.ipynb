{
 "cells": [
  {
   "cell_type": "raw",
   "id": "b32297a4",
   "metadata": {},
   "source": [
    "---\n",
    "Content.\n",
    "---"
   ]
  }
 ],
 "metadata": {
  "jupytext": {
   "formats": "ipynb,md:myst"
  },
  "kernelspec": {
   "display_name": "Python 3",
   "language": "python",
   "name": "python3"
  },
  "language_info": {
   "name": "python"
  }
 },
 "nbformat": 4,
 "nbformat_minor": 5
}
