{
 "cells": [
  {
   "cell_type": "markdown",
   "id": "7f0da6ff-9da5-453c-8515-88fabeb03582",
   "metadata": {
    "@deathbeds/jupyterlab-fonts": {
     "styles": {
      "": {
       "body[data-jp-deck-mode='presenting'] &": {
        "right": "0",
        "top": "30%",
        "width": "25%",
        "z-index": 1
       }
      }
     }
    },
    "jupyterlab-slideshow": {
     "layer": "slide"
    }
   },
   "source": [
    "> **Note**\n",
    "> \n",
    "> `slide` layer with a `top` of `30%`"
   ]
  }
 ],
 "metadata": {
  "@deathbeds/jupyterlab-fonts": {
   "styles": {}
  },
  "foo": "x",
  "kernelspec": {
   "display_name": "Python 3 (ipykernel)",
   "language": "python",
   "name": "python3"
  },
  "language_info": {
   "codemirror_mode": {
    "name": "ipython",
    "version": 3
   },
   "file_extension": ".py",
   "mimetype": "text/x-python",
   "name": "python",
   "nbconvert_exporter": "python",
   "pygments_lexer": "ipython3",
   "version": "3.11.5"
  }
 },
 "nbformat": 4,
 "nbformat_minor": 5
}
