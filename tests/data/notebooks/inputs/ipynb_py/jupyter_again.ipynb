{
 "cells": [
  {
   "cell_type": "code",
   "execution_count": 6,
   "metadata": {},
   "outputs": [],
   "source": [
    "c = '''\n",
    "title: \"Quick test\"\n",
    "output:\n",
    "  ioslides_presentation:\n",
    "    widescreen: true\n",
    "    smaller: true\n",
    "editor_options:\n",
    "     chunk_output_type console\n",
    "'''"
   ]
  },
  {
   "cell_type": "code",
   "execution_count": 7,
   "metadata": {},
   "outputs": [
    {
     "name": "stdout",
     "output_type": "stream",
     "text": [
      "author: Marc Wouts\n",
      "date: June 15, 2018\n",
      "editor_options: chunk_output_type console\n",
      "output:\n",
      "  ioslides_presentation: {smaller: true, widescreen: true}\n",
      "subtitle: Slides generated using R, python and ioslides\n",
      "title: Quick ioslides\n",
      "\n"
     ]
    }
   ],
   "source": [
    "import yaml\n",
    "print(yaml.dump(yaml.load(c)))"
   ]
  },
  {
   "cell_type": "code",
   "execution_count": 7,
   "metadata": {},
   "outputs": [],
   "source": [
    "?next"
   ]
  }
 ],
 "metadata": {
  "kernelspec": {
   "display_name": "Python 3",
   "language": "python",
   "name": "python3"
  },
  "language_info": {
   "codemirror_mode": {
    "name": "ipython",
    "version": 3
   },
   "file_extension": ".py",
   "mimetype": "text/x-python",
   "name": "python",
   "nbconvert_exporter": "python",
   "pygments_lexer": "ipython3",
   "version": "3.6.5"
  }
 },
 "nbformat": 4,
 "nbformat_minor": 2
}
