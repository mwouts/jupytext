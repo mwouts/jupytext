{
 "cells": [
  {
   "cell_type": "markdown",
   "metadata": {},
   "source": [
    "# Assign Values"
   ]
  },
  {
   "cell_type": "code",
   "execution_count": 2,
   "metadata": {},
   "outputs": [
    {
     "name": "stdout",
     "output_type": "stream",
     "text": [
      "a = 1\n"
     ]
    }
   ],
   "source": [
    "set a 1\n",
    "puts \"a = $a\""
   ]
  },
  {
   "cell_type": "markdown",
   "metadata": {},
   "source": [
    "# Loop"
   ]
  },
  {
   "cell_type": "code",
   "execution_count": 3,
   "metadata": {},
   "outputs": [
    {
     "name": "stdout",
     "output_type": "stream",
     "text": [
      "I inside first loop: 0\n",
      "I inside first loop: 1\n",
      "I inside first loop: 2\n",
      "I inside first loop: 3\n",
      "I inside first loop: 4\n",
      "I inside first loop: 5\n",
      "I inside first loop: 6\n",
      "I inside first loop: 7\n",
      "I inside first loop: 8\n",
      "I inside first loop: 9\n"
     ]
    }
   ],
   "source": [
    "for {set i 0} {$i < 10} {incr i} {\n",
    "    puts \"I inside first loop: $i\"\n",
    "}"
   ]
  },
  {
   "cell_type": "code",
   "execution_count": null,
   "metadata": {},
   "outputs": [],
   "source": []
  }
 ],
 "metadata": {
  "kernelspec": {
   "display_name": "Tcl",
   "language": "tcl",
   "name": "tcljupyter"
  },
  "language_info": {
   "file_extension": ".tcl",
   "mimetype": "txt/x-tcl",
   "name": "tcl",
   "version": "8.6.11"
  }
 },
 "nbformat": 4,
 "nbformat_minor": 4
}
